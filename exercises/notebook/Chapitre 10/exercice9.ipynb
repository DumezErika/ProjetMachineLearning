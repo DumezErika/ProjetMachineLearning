{
 "cells": [
  {
   "cell_type": "code",
   "execution_count": 1,
   "metadata": {},
   "outputs": [
    {
     "name": "stdout",
     "output_type": "stream",
     "text": [
      "[0 0 0 2 0 2 1 0 0 2 1 1 0 1 1 1 1 0 1 0 2 0 1 0 2 1 1 0 1 2 0 0 0 1 1 2 2\n",
      " 1 2 0 1 2 2 1 1 2 2 1 1 2]\n",
      "[1 1 2 0 2 2 0 0 2 1 0 0 2 0 0 0 0 1 0 2 0 2 0 1 0 0 0 2 0 0 2 2 1 0 0 0 0\n",
      " 0 0 1 0 1 2 0 0 0 0 0 0 0]\n"
     ]
    }
   ],
   "source": [
    "import pandas as pd\n",
    "from random import sample\n",
    "from sklearn.cluster import AgglomerativeClustering\n",
    "from sklearn import preprocessing\n",
    "\n",
    "us = pd.read_csv(\"USArrests.csv\")\n",
    "X = us\n",
    "\n",
    "clust = AgglomerativeClustering(linkage='complete', n_clusters = 3).fit(X)\n",
    "print(clust.labels_)\n",
    "\n",
    "X_st = preprocessing.scale(X)\n",
    "clust1 = AgglomerativeClustering(linkage='complete', n_clusters = 3).fit(X_st)\n",
    "print(clust1.labels_)"
   ]
  }
 ],
 "metadata": {
  "kernelspec": {
   "display_name": "Python 3",
   "language": "python",
   "name": "python3"
  },
  "language_info": {
   "codemirror_mode": {
    "name": "ipython",
    "version": 3
   },
   "file_extension": ".py",
   "mimetype": "text/x-python",
   "name": "python",
   "nbconvert_exporter": "python",
   "pygments_lexer": "ipython3",
   "version": "3.8.5"
  }
 },
 "nbformat": 4,
 "nbformat_minor": 4
}
