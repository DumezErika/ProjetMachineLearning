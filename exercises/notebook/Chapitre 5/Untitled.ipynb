{
 "cells": [
  {
   "cell_type": "code",
   "execution_count": 4,
   "metadata": {},
   "outputs": [],
   "source": [
    "import pandas as pd\n",
    "import numpy as np\n",
    "from sklearn.linear_model import LogisticRegression\n",
    "from sklearn.metrics import confusion_matrix\n",
    "from sklearn.model_selection import train_test_split\n",
    "\n",
    "default = pd.read_csv('Default.csv')"
   ]
  },
  {
   "cell_type": "code",
   "execution_count": 5,
   "metadata": {},
   "outputs": [],
   "source": [
    "#a)\n",
    "X = default[['income', 'balance']]\n",
    "y = default['default']\n",
    "clf = LogisticRegression().fit(X,y)"
   ]
  },
  {
   "cell_type": "code",
   "execution_count": 7,
   "metadata": {},
   "outputs": [
    {
     "name": "stdout",
     "output_type": "stream",
     "text": [
      "[[3180   12]\n",
      " [  69   39]]\n"
     ]
    }
   ],
   "source": [
    "#b)\n",
    "X_train, X_test, y_train, y_test = train_test_split(X, y, test_size = 0.33, random_state = 4)\n",
    "clf1 = LogisticRegression().fit(X_train, y_train)\n",
    "print(confusion_matrix(y_test, clf1.predict(X_test)))"
   ]
  },
  {
   "cell_type": "code",
   "execution_count": 10,
   "metadata": {},
   "outputs": [
    {
     "name": "stdout",
     "output_type": "stream",
     "text": [
      "[[3176   16]\n",
      " [  87   21]]\n"
     ]
    }
   ],
   "source": [
    "#c)\n",
    "default_copy = default.copy()\n",
    "default_copy.loc[default_copy['student'] == 'No', 'student'] = 0\n",
    "default_copy.loc[default_copy['student'] == 'Yes', 'student'] = 1\n",
    "A = default_copy[['income', 'balance', 'student']]\n",
    "b = default_copy['default']\n",
    "A_train, A_test, b_train, b_test = train_test_split(A, b, test_size = 0.33, random_state=4)\n",
    "clf2 = LogisticRegression().fit(A_train,b_train)\n",
    "print(confusion_matrix(b_test, clf2.predict(A_test)))"
   ]
  }
 ],
 "metadata": {
  "kernelspec": {
   "display_name": "Python 3",
   "language": "python",
   "name": "python3"
  },
  "language_info": {
   "codemirror_mode": {
    "name": "ipython",
    "version": 3
   },
   "file_extension": ".py",
   "mimetype": "text/x-python",
   "name": "python",
   "nbconvert_exporter": "python",
   "pygments_lexer": "ipython3",
   "version": "3.8.5"
  }
 },
 "nbformat": 4,
 "nbformat_minor": 4
}
