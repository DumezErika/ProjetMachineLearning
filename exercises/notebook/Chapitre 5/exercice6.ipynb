{
 "cells": [
  {
   "cell_type": "code",
   "execution_count": 1,
   "metadata": {},
   "outputs": [],
   "source": [
    "import pandas as pd\n",
    "import numpy as np\n",
    "import statsmodels.api as sm\n",
    "import statsmodels.formula.api as smf\n",
    "from sklearn.linear_model import LogisticRegression\n",
    "\n",
    "default_ = pd.read_csv(\"Default.csv\")\n",
    "default = default_.copy() "
   ]
  },
  {
   "cell_type": "code",
   "execution_count": 2,
   "metadata": {},
   "outputs": [
    {
     "name": "stdout",
     "output_type": "stream",
     "text": [
      "Coefficients :  [[2.08091984e-05 5.64710797e-03]] [-11.54047811]\n",
      "Standard errors :  [4.34772356e-01 4.98523984e-06 2.27381314e-04]\n"
     ]
    }
   ],
   "source": [
    "#a) Première approche\n",
    "X = default[['income', 'balance']]\n",
    "y = default['default']\n",
    "clf = LogisticRegression().fit(X,y)\n",
    "\n",
    "\n",
    "predProbs = clf.predict_proba(X)\n",
    "X_design = np.hstack([np.ones((X.shape[0],1)), X])\n",
    "V = np.diagflat(np.product(predProbs, axis=1))\n",
    "covLogit = np.linalg.inv(np.dot(np.dot(X_design.T,V), X_design))\n",
    "\n",
    "standard_errors = np.sqrt(np.diag(covLogit))\n",
    "print(\"Coefficients : \" , clf.coef_ , clf.intercept_)\n",
    "print(\"Standard errors : \", standard_errors)"
   ]
  },
  {
   "cell_type": "code",
   "execution_count": 3,
   "metadata": {},
   "outputs": [
    {
     "name": "stdout",
     "output_type": "stream",
     "text": [
      "                      Generalized Linear Model Regression Results                       \n",
      "========================================================================================\n",
      "Dep. Variable:     ['default[0]', 'default[1]']   No. Observations:                10000\n",
      "Model:                                      GLM   Df Residuals:                     9997\n",
      "Model Family:                          Binomial   Df Model:                            2\n",
      "Link Function:                            logit   Scale:                          1.0000\n",
      "Method:                                    IRLS   Log-Likelihood:                -789.48\n",
      "Date:                          Wed, 16 Dec 2020   Deviance:                       1579.0\n",
      "Time:                                  11:50:04   Pearson chi2:                 6.95e+03\n",
      "No. Iterations:                               9                                         \n",
      "Covariance Type:                      nonrobust                                         \n",
      "==============================================================================\n",
      "                 coef    std err          z      P>|z|      [0.025      0.975]\n",
      "------------------------------------------------------------------------------\n",
      "Intercept    -11.5405      0.435    -26.544      0.000     -12.393     -10.688\n",
      "income      2.081e-05   4.99e-06      4.174      0.000     1.1e-05    3.06e-05\n",
      "balance        0.0056      0.000     24.835      0.000       0.005       0.006\n",
      "==============================================================================\n"
     ]
    }
   ],
   "source": [
    "#a) Deuxième approche\n",
    "default.loc[default['default'] == 'No', 'default'] = int(1)\n",
    "default.loc[default['default'] == 'Yes', 'default'] = int(0)\n",
    "\n",
    "f = 'default ~ income + balance'\n",
    "model = smf.glm(formula = f, data = default, family = sm.families.Binomial()).fit()\n",
    "print(model.summary())"
   ]
  },
  {
   "cell_type": "code",
   "execution_count": 4,
   "metadata": {},
   "outputs": [],
   "source": [
    "#b)\n",
    "def boot_fn(dataFrame, index):\n",
    "    df = dataFrame.iloc[index, :]\n",
    "    X = df[['income', 'balance']]\n",
    "    y = df['default']\n",
    "    clf = LogisticRegression().fit(X,y)\n",
    "    return(clf.coef_, clf.intercept_)"
   ]
  },
  {
   "cell_type": "code",
   "execution_count": 11,
   "metadata": {},
   "outputs": [
    {
     "name": "stdout",
     "output_type": "stream",
     "text": [
      "0    0.183895\n",
      "1    0.000006\n",
      "2    0.000106\n",
      "dtype: float64\n"
     ]
    }
   ],
   "source": [
    "def boot_se(dataFrame, index):\n",
    "    df = dataFrame.iloc[index,:]\n",
    "    X = df[['income', 'balance']]\n",
    "    y = df['default']\n",
    "    y = y.astype('int')\n",
    "    clf = LogisticRegression().fit(X,y)\n",
    "    predProbs = clf.predict_proba(X)\n",
    "    X_design = np.hstack([np.ones((X.shape[0],1)), X])\n",
    "    V = np.diagflat(np.product(predProbs, axis=1))\n",
    "    covLogit = np.linalg.inv(np.dot(np.dot(X_design.T,V), X_design))\n",
    "    return(np.sqrt(np.diag(covLogit)))\n",
    "\n",
    "def boot(dataFrame, n):\n",
    "    standard_errors = []\n",
    "    for i in range(n):\n",
    "        index = np.random.choice([i for i in range(len(dataFrame))], len(dataFrame))\n",
    "        standard_errors.append(boot_se(dataFrame, index))\n",
    "    return pd.DataFrame(standard_errors).mean()\n",
    "\n",
    "print(boot(default,100))"
   ]
  }
 ],
 "metadata": {
  "kernelspec": {
   "display_name": "Python 3",
   "language": "python",
   "name": "python3"
  },
  "language_info": {
   "codemirror_mode": {
    "name": "ipython",
    "version": 3
   },
   "file_extension": ".py",
   "mimetype": "text/x-python",
   "name": "python",
   "nbconvert_exporter": "python",
   "pygments_lexer": "ipython3",
   "version": "3.8.5"
  }
 },
 "nbformat": 4,
 "nbformat_minor": 4
}
